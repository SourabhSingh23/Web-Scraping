{
 "cells": [
  {
   "cell_type": "code",
   "execution_count": 21,
   "metadata": {},
   "outputs": [],
   "source": [
    "import pandas as pd\n",
    "from bs4 import BeautifulSoup\n",
    "from selenium import webdriver\n",
    "from selenium.webdriver.common.by import By\n",
    "from selenium.webdriver.common.keys import Keys\n",
    "import time"
   ]
  },
  {
   "cell_type": "code",
   "execution_count": 22,
   "metadata": {},
   "outputs": [
    {
     "name": "stderr",
     "output_type": "stream",
     "text": [
      "C:\\Users\\SOURAB~1\\AppData\\Local\\Temp/ipykernel_18484/3803808981.py:2: DeprecationWarning: executable_path has been deprecated, please pass in a Service object\n",
      "  driver = webdriver.Chrome(\"C:/WebScrapping/chromedriver.exe\")\n"
     ]
    }
   ],
   "source": [
    "url = \"https://www.nike.com/in/w/sale-3yaep\"\n",
    "driver = webdriver.Chrome(\"C:/WebScrapping/chromedriver.exe\")\n",
    "driver.get(url)"
   ]
  },
  {
   "cell_type": "code",
   "execution_count": 23,
   "metadata": {},
   "outputs": [
    {
     "data": {
      "text/plain": [
       "5266"
      ]
     },
     "execution_count": 23,
     "metadata": {},
     "output_type": "execute_result"
    }
   ],
   "source": [
    "last_height = driver.execute_script('return document.body.scrollHeight')\n",
    "last_height"
   ]
  },
  {
   "cell_type": "code",
   "execution_count": 24,
   "metadata": {},
   "outputs": [],
   "source": [
    "while True:\n",
    "    driver.execute_script('window.scrollTo(0,document.body.scrollHeight)')\n",
    "    time.sleep(2)\n",
    "    new_height = driver.execute_script('return document.body.scrollHeight')\n",
    "\n",
    "    if new_height == last_height:\n",
    "        break\n",
    "    last_height = new_height"
   ]
  },
  {
   "cell_type": "code",
   "execution_count": 30,
   "metadata": {},
   "outputs": [
    {
     "data": {
      "text/plain": [
       "728"
      ]
     },
     "execution_count": 30,
     "metadata": {},
     "output_type": "execute_result"
    }
   ],
   "source": [
    "soup = BeautifulSoup(driver.page_source, 'lxml')\n",
    "\n",
    "product_card = soup.find_all('div', class_ = 'product-card__body')\n",
    "len(product_card)"
   ]
  },
  {
   "cell_type": "code",
   "execution_count": 36,
   "metadata": {},
   "outputs": [],
   "source": [
    "df = pd.DataFrame({'link' : [''],\n",
    "                    'name' : [''],\n",
    "                    'subtitle' : [''],\n",
    "                    'price' : [''],\n",
    "                    'sale_price' : ['']})"
   ]
  },
  {
   "cell_type": "code",
   "execution_count": 39,
   "metadata": {},
   "outputs": [],
   "source": [
    "for product in product_card:\n",
    "    try:\n",
    "        link = product.find('a', class_ = \"product-card__link-overlay\").get('href')\n",
    "        name = product.find('div', class_ = \"product-card__title\").text\n",
    "        subtitle = product.find('div', class_ = \"product-card__subtitle\").text\n",
    "        full_price = product.find('div', class_ = \"product-price is--current-price css-s56yt7\").text\n",
    "        sale_price = product.find('div', class_ = \"product-price is--striked-out\").text\n",
    "\n",
    "        df = df.append({'link' : link,\n",
    "                        'name' : name,\n",
    "                        'subtitle' : subtitle,\n",
    "                        'price' : full_price,\n",
    "                        'sale_price' : sale_price}, ignore_index=True)\n",
    "    \n",
    "    except:\n",
    "        pass"
   ]
  },
  {
   "cell_type": "code",
   "execution_count": 40,
   "metadata": {},
   "outputs": [
    {
     "data": {
      "text/html": [
       "<div>\n",
       "<style scoped>\n",
       "    .dataframe tbody tr th:only-of-type {\n",
       "        vertical-align: middle;\n",
       "    }\n",
       "\n",
       "    .dataframe tbody tr th {\n",
       "        vertical-align: top;\n",
       "    }\n",
       "\n",
       "    .dataframe thead th {\n",
       "        text-align: right;\n",
       "    }\n",
       "</style>\n",
       "<table border=\"1\" class=\"dataframe\">\n",
       "  <thead>\n",
       "    <tr style=\"text-align: right;\">\n",
       "      <th></th>\n",
       "      <th>link</th>\n",
       "      <th>name</th>\n",
       "      <th>subtitle</th>\n",
       "      <th>price</th>\n",
       "      <th>sale_price</th>\n",
       "    </tr>\n",
       "  </thead>\n",
       "  <tbody>\n",
       "    <tr>\n",
       "      <th>0</th>\n",
       "      <td></td>\n",
       "      <td></td>\n",
       "      <td></td>\n",
       "      <td></td>\n",
       "      <td></td>\n",
       "    </tr>\n",
       "    <tr>\n",
       "      <th>1</th>\n",
       "      <td>https://www.nike.com/in/t/air-force-1-gtx-shoe...</td>\n",
       "      <td>Nike Air Force 1 GTX</td>\n",
       "      <td>Men's Shoes</td>\n",
       "      <td>₹11,597</td>\n",
       "      <td>₹14,495</td>\n",
       "    </tr>\n",
       "    <tr>\n",
       "      <th>2</th>\n",
       "      <td>https://www.nike.com/in/t/dri-fit-cr7-older-kn...</td>\n",
       "      <td>Nike Dri-FIT CR7</td>\n",
       "      <td>Older Kids' Knit Football Shorts</td>\n",
       "      <td>₹1,357</td>\n",
       "      <td>₹1,695</td>\n",
       "    </tr>\n",
       "    <tr>\n",
       "      <th>3</th>\n",
       "      <td>https://www.nike.com/in/t/paris-saint-germain-...</td>\n",
       "      <td>Paris Saint-Germain 2022/23 Stadium Fourth</td>\n",
       "      <td>Men's Nike Dri-FIT Football Shirt</td>\n",
       "      <td>₹3,757</td>\n",
       "      <td>₹4,695</td>\n",
       "    </tr>\n",
       "    <tr>\n",
       "      <th>4</th>\n",
       "      <td>https://www.nike.com/in/t/los-angeles-lakers-c...</td>\n",
       "      <td>Los Angeles Lakers City Edition</td>\n",
       "      <td>Nike Dri-FIT NBA Swingman Jersey</td>\n",
       "      <td>₹5,197</td>\n",
       "      <td>₹6,495</td>\n",
       "    </tr>\n",
       "    <tr>\n",
       "      <th>...</th>\n",
       "      <td>...</td>\n",
       "      <td>...</td>\n",
       "      <td>...</td>\n",
       "      <td>...</td>\n",
       "      <td>...</td>\n",
       "    </tr>\n",
       "    <tr>\n",
       "      <th>724</th>\n",
       "      <td>https://www.nike.com/in/t/yoga-dri-fit-printed...</td>\n",
       "      <td>Nike Yoga Dri-FIT</td>\n",
       "      <td>Women's Printed PJ Tank</td>\n",
       "      <td>₹1,357</td>\n",
       "      <td>₹1,695</td>\n",
       "    </tr>\n",
       "    <tr>\n",
       "      <th>725</th>\n",
       "      <td>https://www.nike.com/in/t/story-pack-training-...</td>\n",
       "      <td>Nike Therma-FIT Story Pack</td>\n",
       "      <td>Men's Full-Zip Training Hoodie</td>\n",
       "      <td>₹3,197</td>\n",
       "      <td>₹3,995</td>\n",
       "    </tr>\n",
       "    <tr>\n",
       "      <th>726</th>\n",
       "      <td>https://www.nike.com/in/t/jordan-dri-fit-air-s...</td>\n",
       "      <td>Jordan Dri-FIT Air</td>\n",
       "      <td>Men's Statement Fleece Hoodie</td>\n",
       "      <td>₹4,397</td>\n",
       "      <td>₹5,495</td>\n",
       "    </tr>\n",
       "    <tr>\n",
       "      <th>727</th>\n",
       "      <td>https://www.nike.com/in/t/polo-polo-N920kf/DA3...</td>\n",
       "      <td>The Nike Polo</td>\n",
       "      <td>Women's Polo</td>\n",
       "      <td>₹2,397</td>\n",
       "      <td>₹2,995</td>\n",
       "    </tr>\n",
       "    <tr>\n",
       "      <th>728</th>\n",
       "      <td>https://www.nike.com/in/t/yoga-dri-fit-printed...</td>\n",
       "      <td>Nike Yoga Dri-FIT</td>\n",
       "      <td>Women's Printed PJ Tank</td>\n",
       "      <td>₹1,357</td>\n",
       "      <td>₹1,695</td>\n",
       "    </tr>\n",
       "  </tbody>\n",
       "</table>\n",
       "<p>729 rows × 5 columns</p>\n",
       "</div>"
      ],
      "text/plain": [
       "                                                  link  \\\n",
       "0                                                        \n",
       "1    https://www.nike.com/in/t/air-force-1-gtx-shoe...   \n",
       "2    https://www.nike.com/in/t/dri-fit-cr7-older-kn...   \n",
       "3    https://www.nike.com/in/t/paris-saint-germain-...   \n",
       "4    https://www.nike.com/in/t/los-angeles-lakers-c...   \n",
       "..                                                 ...   \n",
       "724  https://www.nike.com/in/t/yoga-dri-fit-printed...   \n",
       "725  https://www.nike.com/in/t/story-pack-training-...   \n",
       "726  https://www.nike.com/in/t/jordan-dri-fit-air-s...   \n",
       "727  https://www.nike.com/in/t/polo-polo-N920kf/DA3...   \n",
       "728  https://www.nike.com/in/t/yoga-dri-fit-printed...   \n",
       "\n",
       "                                           name  \\\n",
       "0                                                 \n",
       "1                          Nike Air Force 1 GTX   \n",
       "2                              Nike Dri-FIT CR7   \n",
       "3    Paris Saint-Germain 2022/23 Stadium Fourth   \n",
       "4               Los Angeles Lakers City Edition   \n",
       "..                                          ...   \n",
       "724                           Nike Yoga Dri-FIT   \n",
       "725                  Nike Therma-FIT Story Pack   \n",
       "726                          Jordan Dri-FIT Air   \n",
       "727                               The Nike Polo   \n",
       "728                           Nike Yoga Dri-FIT   \n",
       "\n",
       "                              subtitle    price sale_price  \n",
       "0                                                           \n",
       "1                          Men's Shoes  ₹11,597    ₹14,495  \n",
       "2     Older Kids' Knit Football Shorts   ₹1,357     ₹1,695  \n",
       "3    Men's Nike Dri-FIT Football Shirt   ₹3,757     ₹4,695  \n",
       "4     Nike Dri-FIT NBA Swingman Jersey   ₹5,197     ₹6,495  \n",
       "..                                 ...      ...        ...  \n",
       "724            Women's Printed PJ Tank   ₹1,357     ₹1,695  \n",
       "725     Men's Full-Zip Training Hoodie   ₹3,197     ₹3,995  \n",
       "726      Men's Statement Fleece Hoodie   ₹4,397     ₹5,495  \n",
       "727                       Women's Polo   ₹2,397     ₹2,995  \n",
       "728            Women's Printed PJ Tank   ₹1,357     ₹1,695  \n",
       "\n",
       "[729 rows x 5 columns]"
      ]
     },
     "execution_count": 40,
     "metadata": {},
     "output_type": "execute_result"
    }
   ],
   "source": [
    "df"
   ]
  },
  {
   "cell_type": "code",
   "execution_count": 41,
   "metadata": {},
   "outputs": [],
   "source": [
    "df.to_csv('nike.csv')"
   ]
  },
  {
   "cell_type": "code",
   "execution_count": null,
   "metadata": {},
   "outputs": [],
   "source": []
  },
  {
   "cell_type": "code",
   "execution_count": null,
   "metadata": {},
   "outputs": [],
   "source": []
  },
  {
   "cell_type": "code",
   "execution_count": null,
   "metadata": {},
   "outputs": [],
   "source": []
  },
  {
   "cell_type": "code",
   "execution_count": null,
   "metadata": {},
   "outputs": [],
   "source": []
  },
  {
   "cell_type": "code",
   "execution_count": null,
   "metadata": {},
   "outputs": [],
   "source": []
  },
  {
   "cell_type": "code",
   "execution_count": null,
   "metadata": {},
   "outputs": [],
   "source": []
  },
  {
   "cell_type": "code",
   "execution_count": null,
   "metadata": {},
   "outputs": [],
   "source": []
  },
  {
   "cell_type": "code",
   "execution_count": null,
   "metadata": {},
   "outputs": [],
   "source": []
  },
  {
   "cell_type": "code",
   "execution_count": null,
   "metadata": {},
   "outputs": [],
   "source": []
  },
  {
   "cell_type": "code",
   "execution_count": null,
   "metadata": {},
   "outputs": [],
   "source": []
  },
  {
   "cell_type": "code",
   "execution_count": null,
   "metadata": {},
   "outputs": [],
   "source": []
  },
  {
   "cell_type": "code",
   "execution_count": null,
   "metadata": {},
   "outputs": [],
   "source": []
  },
  {
   "cell_type": "code",
   "execution_count": null,
   "metadata": {},
   "outputs": [],
   "source": []
  },
  {
   "cell_type": "code",
   "execution_count": null,
   "metadata": {},
   "outputs": [],
   "source": []
  },
  {
   "cell_type": "code",
   "execution_count": null,
   "metadata": {},
   "outputs": [],
   "source": []
  }
 ],
 "metadata": {
  "kernelspec": {
   "display_name": "Python 3.9.7 64-bit",
   "language": "python",
   "name": "python3"
  },
  "language_info": {
   "codemirror_mode": {
    "name": "ipython",
    "version": 3
   },
   "file_extension": ".py",
   "mimetype": "text/x-python",
   "name": "python",
   "nbconvert_exporter": "python",
   "pygments_lexer": "ipython3",
   "version": "3.9.7"
  },
  "orig_nbformat": 4,
  "vscode": {
   "interpreter": {
    "hash": "2dee1b110d7b7221d57a6ba5b7e4680cf4a7e217059ffbc9e2190431fe3507cb"
   }
  }
 },
 "nbformat": 4,
 "nbformat_minor": 2
}
